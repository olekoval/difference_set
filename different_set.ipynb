{
 "cells": [
  {
   "cell_type": "code",
   "execution_count": 1,
   "id": "f20e68e8",
   "metadata": {},
   "outputs": [],
   "source": [
    "import pandas as pd\n",
    "import openpyxl\n",
    "from openpyxl import load_workbook\n",
    "\n",
    "pack = load_workbook('./packet9.xlsx')\n",
    "cod = load_workbook('./cod.xlsx')\n",
    "\n",
    "pack_ws = pack.active\n",
    "cod_ws = cod.active"
   ]
  },
  {
   "cell_type": "code",
   "execution_count": 6,
   "id": "f2d8fb93",
   "metadata": {},
   "outputs": [],
   "source": [
    "#----------об'єднання даних з трьох клітинок в одне множество------------\n",
    "# p1 = pack_ws['D9'].value\n",
    "# p2 = pack_ws['D10'].value\n",
    "# p3 = pack_ws['D11'].value\n",
    "# s_p1 = set(p1.split(', '))\n",
    "# s_p2 = set(p2.split(', '))\n",
    "# s_p3 = set(p3.split(', '))\n",
    "# s_1_2 = s_p1.union(s_p2)\n",
    "# set_p_1 = s_1_2.union(s_p3)\n",
    "\n",
    "p_1 = pack_ws['D13'].value\n",
    "# конветрація дних (строка) в пітоновське множество\n",
    "set_p_1 = set(p_1.split(', '))\n",
    "\n",
    "cod_1 = []\n",
    "for i in range(131, 493):\n",
    "    c = cod_ws[\"A\"+str(i)].value\n",
    "    cod_1.append(c)\n",
    "sep_c_1 = set(cod_1)    "
   ]
  },
  {
   "cell_type": "code",
   "execution_count": 7,
   "id": "b9c29ebf",
   "metadata": {
    "scrolled": false
   },
   "outputs": [
    {
     "data": {
      "text/plain": [
       "False"
      ]
     },
     "execution_count": 7,
     "metadata": {},
     "output_type": "execute_result"
    }
   ],
   "source": [
    "sep_c_1 == set_p_1"
   ]
  },
  {
   "cell_type": "code",
   "execution_count": 8,
   "id": "3547184f",
   "metadata": {},
   "outputs": [
    {
     "data": {
      "text/plain": [
       "{'35317-01'}"
      ]
     },
     "execution_count": 8,
     "metadata": {},
     "output_type": "execute_result"
    }
   ],
   "source": [
    "sep_c_1.difference(set_p_1)"
   ]
  },
  {
   "cell_type": "code",
   "execution_count": 9,
   "id": "1de2b564",
   "metadata": {},
   "outputs": [
    {
     "data": {
      "text/plain": [
       "{'35317-01 ', '92107-00'}"
      ]
     },
     "execution_count": 9,
     "metadata": {},
     "output_type": "execute_result"
    }
   ],
   "source": [
    "set_p_1.difference(sep_c_1)"
   ]
  },
  {
   "cell_type": "code",
   "execution_count": 10,
   "id": "bcbf413e",
   "metadata": {},
   "outputs": [
    {
     "data": {
      "text/plain": [
       "{'35317-01', '35317-01 ', '92107-00'}"
      ]
     },
     "execution_count": 10,
     "metadata": {},
     "output_type": "execute_result"
    }
   ],
   "source": [
    "set_p_1 ^ sep_c_1"
   ]
  },
  {
   "cell_type": "code",
   "execution_count": null,
   "id": "e6e7a22f",
   "metadata": {},
   "outputs": [],
   "source": []
  }
 ],
 "metadata": {
  "kernelspec": {
   "display_name": "Python 3 (ipykernel)",
   "language": "python",
   "name": "python3"
  },
  "language_info": {
   "codemirror_mode": {
    "name": "ipython",
    "version": 3
   },
   "file_extension": ".py",
   "mimetype": "text/x-python",
   "name": "python",
   "nbconvert_exporter": "python",
   "pygments_lexer": "ipython3",
   "version": "3.9.13"
  }
 },
 "nbformat": 4,
 "nbformat_minor": 5
}
